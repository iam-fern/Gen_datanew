{
  "nbformat": 4,
  "nbformat_minor": 0,
  "metadata": {
    "colab": {
      "name": "gendatanew_1000rep.ipynb",
      "provenance": [],
      "authorship_tag": "ABX9TyPjdJLkCuvHeNd+5jQsrSm2",
      "include_colab_link": true
    },
    "kernelspec": {
      "name": "python3",
      "display_name": "Python 3"
    },
    "language_info": {
      "name": "python"
    }
  },
  "cells": [
    {
      "cell_type": "markdown",
      "metadata": {
        "id": "view-in-github",
        "colab_type": "text"
      },
      "source": [
        "<a href=\"https://colab.research.google.com/github/iam-fern/Gen_datanew/blob/main/gendatanew_1000rep.ipynb\" target=\"_parent\"><img src=\"https://colab.research.google.com/assets/colab-badge.svg\" alt=\"Open In Colab\"/></a>"
      ]
    },
    {
      "cell_type": "code",
      "metadata": {
        "colab": {
          "base_uri": "https://localhost:8080/"
        },
        "id": "4_FtA9vePxtc",
        "outputId": "8752cf38-e9fe-4dcf-aa39-f28024b19738"
      },
      "source": [
        "import pandas as pd\n",
        "import numpy as np\n",
        "import matplotlib.pyplot as plt\n",
        "from scipy.stats import norm\n",
        "from numpy.random import normal\n",
        "import statistics\n",
        "import statistics as stats\n",
        "import scipy.stats as ss\n",
        "from scipy import stats\n",
        "import scipy.stats as stats\n",
        "import time\n",
        "import statsmodels.api as sm\n",
        "%matplotlib inline\n",
        "from google.colab import files"
      ],
      "execution_count": 1,
      "outputs": [
        {
          "output_type": "stream",
          "name": "stderr",
          "text": [
            "/usr/local/lib/python3.7/dist-packages/statsmodels/tools/_testing.py:19: FutureWarning: pandas.util.testing is deprecated. Use the functions in the public API at pandas.testing instead.\n",
            "  import pandas.util.testing as tm\n"
          ]
        }
      ]
    },
    {
      "cell_type": "code",
      "metadata": {
        "colab": {
          "base_uri": "https://localhost:8080/",
          "height": 417
        },
        "id": "zzBSCS6HTI-W",
        "outputId": "b553d8ec-2683-40a7-fce3-e4ded05f3a47"
      },
      "source": [
        "# random.uniform(a, b)\n",
        "# Syntax : numpy.random.uniform(low=0.0, high=1.0, size=None)\n",
        "# a : Required. A number specifying the lowest possible outcome\n",
        "# b : Required. A number specifying the highest possible outcome\n",
        "\n",
        "data = pd.DataFrame({'X1' : np.random.uniform(20, 100, 50000),\n",
        "                     'X2' : np.random.uniform(20, 100, 50000),\n",
        "                     'X3' : np.random.uniform(20, 100, 50000)})\n",
        "data"
      ],
      "execution_count": 3,
      "outputs": [
        {
          "output_type": "execute_result",
          "data": {
            "text/html": [
              "<div>\n",
              "<style scoped>\n",
              "    .dataframe tbody tr th:only-of-type {\n",
              "        vertical-align: middle;\n",
              "    }\n",
              "\n",
              "    .dataframe tbody tr th {\n",
              "        vertical-align: top;\n",
              "    }\n",
              "\n",
              "    .dataframe thead th {\n",
              "        text-align: right;\n",
              "    }\n",
              "</style>\n",
              "<table border=\"1\" class=\"dataframe\">\n",
              "  <thead>\n",
              "    <tr style=\"text-align: right;\">\n",
              "      <th></th>\n",
              "      <th>X1</th>\n",
              "      <th>X2</th>\n",
              "      <th>X3</th>\n",
              "    </tr>\n",
              "  </thead>\n",
              "  <tbody>\n",
              "    <tr>\n",
              "      <th>0</th>\n",
              "      <td>76.249893</td>\n",
              "      <td>68.655144</td>\n",
              "      <td>66.304819</td>\n",
              "    </tr>\n",
              "    <tr>\n",
              "      <th>1</th>\n",
              "      <td>56.202743</td>\n",
              "      <td>49.112790</td>\n",
              "      <td>20.060887</td>\n",
              "    </tr>\n",
              "    <tr>\n",
              "      <th>2</th>\n",
              "      <td>48.104050</td>\n",
              "      <td>33.635593</td>\n",
              "      <td>36.792001</td>\n",
              "    </tr>\n",
              "    <tr>\n",
              "      <th>3</th>\n",
              "      <td>66.740505</td>\n",
              "      <td>39.103807</td>\n",
              "      <td>25.985712</td>\n",
              "    </tr>\n",
              "    <tr>\n",
              "      <th>4</th>\n",
              "      <td>52.256339</td>\n",
              "      <td>43.121843</td>\n",
              "      <td>48.391270</td>\n",
              "    </tr>\n",
              "    <tr>\n",
              "      <th>...</th>\n",
              "      <td>...</td>\n",
              "      <td>...</td>\n",
              "      <td>...</td>\n",
              "    </tr>\n",
              "    <tr>\n",
              "      <th>49995</th>\n",
              "      <td>34.589775</td>\n",
              "      <td>72.253869</td>\n",
              "      <td>28.476215</td>\n",
              "    </tr>\n",
              "    <tr>\n",
              "      <th>49996</th>\n",
              "      <td>93.574476</td>\n",
              "      <td>85.307602</td>\n",
              "      <td>73.935580</td>\n",
              "    </tr>\n",
              "    <tr>\n",
              "      <th>49997</th>\n",
              "      <td>61.908163</td>\n",
              "      <td>64.027998</td>\n",
              "      <td>36.959761</td>\n",
              "    </tr>\n",
              "    <tr>\n",
              "      <th>49998</th>\n",
              "      <td>96.556862</td>\n",
              "      <td>28.819735</td>\n",
              "      <td>70.109687</td>\n",
              "    </tr>\n",
              "    <tr>\n",
              "      <th>49999</th>\n",
              "      <td>60.181219</td>\n",
              "      <td>50.056277</td>\n",
              "      <td>74.457058</td>\n",
              "    </tr>\n",
              "  </tbody>\n",
              "</table>\n",
              "<p>50000 rows × 3 columns</p>\n",
              "</div>"
            ],
            "text/plain": [
              "              X1         X2         X3\n",
              "0      76.249893  68.655144  66.304819\n",
              "1      56.202743  49.112790  20.060887\n",
              "2      48.104050  33.635593  36.792001\n",
              "3      66.740505  39.103807  25.985712\n",
              "4      52.256339  43.121843  48.391270\n",
              "...          ...        ...        ...\n",
              "49995  34.589775  72.253869  28.476215\n",
              "49996  93.574476  85.307602  73.935580\n",
              "49997  61.908163  64.027998  36.959761\n",
              "49998  96.556862  28.819735  70.109687\n",
              "49999  60.181219  50.056277  74.457058\n",
              "\n",
              "[50000 rows x 3 columns]"
            ]
          },
          "metadata": {},
          "execution_count": 3
        }
      ]
    },
    {
      "cell_type": "code",
      "metadata": {
        "colab": {
          "base_uri": "https://localhost:8080/",
          "height": 447
        },
        "id": "upQrBrSkTI1H",
        "outputId": "38c7900b-f112-47fa-fc54-7faf58681546"
      },
      "source": [
        "X1 = data['X1']\n",
        "X2 = data['X2']\n",
        "X3 = data['X3']\n",
        "\n",
        "x1 = X1\n",
        "x2 = X2\n",
        "x3 = X3\n",
        "\n",
        "new_data = pd.DataFrame({'x1' : data['X1'],\n",
        "                         'x2' : data['X2'],\n",
        "                         'x3' : data['X3'],\n",
        "                         'e'  : np.random.normal(0, x1**4, 50000)})\n",
        "\n",
        "n=250\n",
        "rep=0\n",
        "table_data_all=pd.DataFrame({\"rep\":[]})\n",
        "data_copy=new_data.copy()\n",
        "while not data_copy.empty:\n",
        "    #=========================\n",
        "    if data_copy.shape[0]>n:\n",
        "        index=data_copy.sample(n).index\n",
        "        data_new=data_copy.loc[index,:].reset_index(drop=True)\n",
        "        data_copy=data_copy.drop(index)\n",
        "    else:\n",
        "        data_new=data_copy.copy().reset_index(drop=True)\n",
        "        data_copy=pd.DataFrame({\"\":[]})\n",
        "    #=========================\n",
        "\n",
        "    table_data = pd.DataFrame({'x1' : data_new['x1'],\n",
        "                               'x2' : data_new['x2'],\n",
        "                               'x3' : data_new['x3'],\n",
        "                               'e'  : data_new['e']})\n",
        "  \n",
        "\n",
        "    table_data['Y'] = 10 + table_data['x1'] + table_data['x2'] + table_data['x3'] + table_data['e']\n",
        "    \n",
        "    table_data=table_data.reset_index(drop=True).reset_index()\n",
        "    table_data[\"rep\"]=rep\n",
        "    table_data_all=pd.concat([table_data_all,table_data],axis=0,ignore_index=True,sort=False)\n",
        "    rep+=1\n",
        "    if rep==1000:\n",
        "      break\n",
        "table_data_all=table_data_all.set_index([\"rep\",\"index\"])\n",
        "table_data_all"
      ],
      "execution_count": 21,
      "outputs": [
        {
          "output_type": "execute_result",
          "data": {
            "text/html": [
              "<div>\n",
              "<style scoped>\n",
              "    .dataframe tbody tr th:only-of-type {\n",
              "        vertical-align: middle;\n",
              "    }\n",
              "\n",
              "    .dataframe tbody tr th {\n",
              "        vertical-align: top;\n",
              "    }\n",
              "\n",
              "    .dataframe thead th {\n",
              "        text-align: right;\n",
              "    }\n",
              "</style>\n",
              "<table border=\"1\" class=\"dataframe\">\n",
              "  <thead>\n",
              "    <tr style=\"text-align: right;\">\n",
              "      <th></th>\n",
              "      <th></th>\n",
              "      <th>x1</th>\n",
              "      <th>x2</th>\n",
              "      <th>x3</th>\n",
              "      <th>e</th>\n",
              "      <th>Y</th>\n",
              "    </tr>\n",
              "    <tr>\n",
              "      <th>rep</th>\n",
              "      <th>index</th>\n",
              "      <th></th>\n",
              "      <th></th>\n",
              "      <th></th>\n",
              "      <th></th>\n",
              "      <th></th>\n",
              "    </tr>\n",
              "  </thead>\n",
              "  <tbody>\n",
              "    <tr>\n",
              "      <th rowspan=\"5\" valign=\"top\">0.0</th>\n",
              "      <th>0.0</th>\n",
              "      <td>48.532802</td>\n",
              "      <td>34.681108</td>\n",
              "      <td>28.624860</td>\n",
              "      <td>3.174822e+06</td>\n",
              "      <td>3.174944e+06</td>\n",
              "    </tr>\n",
              "    <tr>\n",
              "      <th>1.0</th>\n",
              "      <td>49.110158</td>\n",
              "      <td>69.580941</td>\n",
              "      <td>72.705681</td>\n",
              "      <td>-1.506056e+06</td>\n",
              "      <td>-1.505855e+06</td>\n",
              "    </tr>\n",
              "    <tr>\n",
              "      <th>2.0</th>\n",
              "      <td>61.695364</td>\n",
              "      <td>97.327732</td>\n",
              "      <td>94.744239</td>\n",
              "      <td>3.530957e+07</td>\n",
              "      <td>3.530984e+07</td>\n",
              "    </tr>\n",
              "    <tr>\n",
              "      <th>3.0</th>\n",
              "      <td>37.097793</td>\n",
              "      <td>31.273249</td>\n",
              "      <td>46.829450</td>\n",
              "      <td>-3.831634e+06</td>\n",
              "      <td>-3.831509e+06</td>\n",
              "    </tr>\n",
              "    <tr>\n",
              "      <th>4.0</th>\n",
              "      <td>46.018953</td>\n",
              "      <td>84.208119</td>\n",
              "      <td>54.616485</td>\n",
              "      <td>4.201788e+06</td>\n",
              "      <td>4.201983e+06</td>\n",
              "    </tr>\n",
              "    <tr>\n",
              "      <th>...</th>\n",
              "      <th>...</th>\n",
              "      <td>...</td>\n",
              "      <td>...</td>\n",
              "      <td>...</td>\n",
              "      <td>...</td>\n",
              "      <td>...</td>\n",
              "    </tr>\n",
              "    <tr>\n",
              "      <th rowspan=\"5\" valign=\"top\">199.0</th>\n",
              "      <th>245.0</th>\n",
              "      <td>63.230006</td>\n",
              "      <td>39.282986</td>\n",
              "      <td>94.445184</td>\n",
              "      <td>-1.743360e+07</td>\n",
              "      <td>-1.743340e+07</td>\n",
              "    </tr>\n",
              "    <tr>\n",
              "      <th>246.0</th>\n",
              "      <td>82.711417</td>\n",
              "      <td>82.769150</td>\n",
              "      <td>83.047722</td>\n",
              "      <td>-5.146343e+06</td>\n",
              "      <td>-5.146084e+06</td>\n",
              "    </tr>\n",
              "    <tr>\n",
              "      <th>247.0</th>\n",
              "      <td>63.622174</td>\n",
              "      <td>50.162690</td>\n",
              "      <td>88.740962</td>\n",
              "      <td>-2.649819e+07</td>\n",
              "      <td>-2.649798e+07</td>\n",
              "    </tr>\n",
              "    <tr>\n",
              "      <th>248.0</th>\n",
              "      <td>57.560713</td>\n",
              "      <td>27.622518</td>\n",
              "      <td>84.406851</td>\n",
              "      <td>2.381304e+07</td>\n",
              "      <td>2.381322e+07</td>\n",
              "    </tr>\n",
              "    <tr>\n",
              "      <th>249.0</th>\n",
              "      <td>95.366571</td>\n",
              "      <td>62.640121</td>\n",
              "      <td>46.654335</td>\n",
              "      <td>9.330773e+07</td>\n",
              "      <td>9.330795e+07</td>\n",
              "    </tr>\n",
              "  </tbody>\n",
              "</table>\n",
              "<p>50000 rows × 5 columns</p>\n",
              "</div>"
            ],
            "text/plain": [
              "                    x1         x2         x3             e             Y\n",
              "rep   index                                                             \n",
              "0.0   0.0    48.532802  34.681108  28.624860  3.174822e+06  3.174944e+06\n",
              "      1.0    49.110158  69.580941  72.705681 -1.506056e+06 -1.505855e+06\n",
              "      2.0    61.695364  97.327732  94.744239  3.530957e+07  3.530984e+07\n",
              "      3.0    37.097793  31.273249  46.829450 -3.831634e+06 -3.831509e+06\n",
              "      4.0    46.018953  84.208119  54.616485  4.201788e+06  4.201983e+06\n",
              "...                ...        ...        ...           ...           ...\n",
              "199.0 245.0  63.230006  39.282986  94.445184 -1.743360e+07 -1.743340e+07\n",
              "      246.0  82.711417  82.769150  83.047722 -5.146343e+06 -5.146084e+06\n",
              "      247.0  63.622174  50.162690  88.740962 -2.649819e+07 -2.649798e+07\n",
              "      248.0  57.560713  27.622518  84.406851  2.381304e+07  2.381322e+07\n",
              "      249.0  95.366571  62.640121  46.654335  9.330773e+07  9.330795e+07\n",
              "\n",
              "[50000 rows x 5 columns]"
            ]
          },
          "metadata": {},
          "execution_count": 21
        }
      ]
    },
    {
      "cell_type": "code",
      "metadata": {
        "colab": {
          "base_uri": "https://localhost:8080/",
          "height": 447
        },
        "id": "aXtGPHj_UqO4",
        "outputId": "c94c25a8-0f50-4278-f139-b1468cdd401e"
      },
      "source": [
        "x = table_data_all[['x1', 'x2', 'x3',]]\n",
        "y = table_data_all['Y']\n",
        "x = sm.add_constant(x)\n",
        "model = sm.OLS(y, x).fit()\n",
        "y_pred = model.predict(x)\n",
        "\n",
        "df = pd.DataFrame({'Actual': y, 'Predicted': y_pred})\n",
        "\n",
        "table_data_new = pd.DataFrame({'x1'    : table_data_all['x1'],\n",
        "                               'x2'    : table_data_all['x2'],\n",
        "                               'x3'    : table_data_all['x3'],\n",
        "                               'e'     : table_data_all['e'],\n",
        "                               'Y'     : df['Actual'],\n",
        "                               'y_hat' : df['Predicted']})\n",
        "table_data_new['e_hat'] = table_data_new['Y']-table_data_new['y_hat']\n",
        "table_data_new"
      ],
      "execution_count": 22,
      "outputs": [
        {
          "output_type": "execute_result",
          "data": {
            "text/html": [
              "<div>\n",
              "<style scoped>\n",
              "    .dataframe tbody tr th:only-of-type {\n",
              "        vertical-align: middle;\n",
              "    }\n",
              "\n",
              "    .dataframe tbody tr th {\n",
              "        vertical-align: top;\n",
              "    }\n",
              "\n",
              "    .dataframe thead th {\n",
              "        text-align: right;\n",
              "    }\n",
              "</style>\n",
              "<table border=\"1\" class=\"dataframe\">\n",
              "  <thead>\n",
              "    <tr style=\"text-align: right;\">\n",
              "      <th></th>\n",
              "      <th></th>\n",
              "      <th>x1</th>\n",
              "      <th>x2</th>\n",
              "      <th>x3</th>\n",
              "      <th>e</th>\n",
              "      <th>Y</th>\n",
              "      <th>y_hat</th>\n",
              "      <th>e_hat</th>\n",
              "    </tr>\n",
              "    <tr>\n",
              "      <th>rep</th>\n",
              "      <th>index</th>\n",
              "      <th></th>\n",
              "      <th></th>\n",
              "      <th></th>\n",
              "      <th></th>\n",
              "      <th></th>\n",
              "      <th></th>\n",
              "      <th></th>\n",
              "    </tr>\n",
              "  </thead>\n",
              "  <tbody>\n",
              "    <tr>\n",
              "      <th rowspan=\"5\" valign=\"top\">0.0</th>\n",
              "      <th>0.0</th>\n",
              "      <td>48.532802</td>\n",
              "      <td>34.681108</td>\n",
              "      <td>28.624860</td>\n",
              "      <td>3.174822e+06</td>\n",
              "      <td>3.174944e+06</td>\n",
              "      <td>9.278052e+05</td>\n",
              "      <td>2.247138e+06</td>\n",
              "    </tr>\n",
              "    <tr>\n",
              "      <th>1.0</th>\n",
              "      <td>49.110158</td>\n",
              "      <td>69.580941</td>\n",
              "      <td>72.705681</td>\n",
              "      <td>-1.506056e+06</td>\n",
              "      <td>-1.505855e+06</td>\n",
              "      <td>-3.979841e+05</td>\n",
              "      <td>-1.107871e+06</td>\n",
              "    </tr>\n",
              "    <tr>\n",
              "      <th>2.0</th>\n",
              "      <td>61.695364</td>\n",
              "      <td>97.327732</td>\n",
              "      <td>94.744239</td>\n",
              "      <td>3.530957e+07</td>\n",
              "      <td>3.530984e+07</td>\n",
              "      <td>-1.240468e+06</td>\n",
              "      <td>3.655030e+07</td>\n",
              "    </tr>\n",
              "    <tr>\n",
              "      <th>3.0</th>\n",
              "      <td>37.097793</td>\n",
              "      <td>31.273249</td>\n",
              "      <td>46.829450</td>\n",
              "      <td>-3.831634e+06</td>\n",
              "      <td>-3.831509e+06</td>\n",
              "      <td>6.407626e+05</td>\n",
              "      <td>-4.472272e+06</td>\n",
              "    </tr>\n",
              "    <tr>\n",
              "      <th>4.0</th>\n",
              "      <td>46.018953</td>\n",
              "      <td>84.208119</td>\n",
              "      <td>54.616485</td>\n",
              "      <td>4.201788e+06</td>\n",
              "      <td>4.201983e+06</td>\n",
              "      <td>-1.626277e+05</td>\n",
              "      <td>4.364611e+06</td>\n",
              "    </tr>\n",
              "    <tr>\n",
              "      <th>...</th>\n",
              "      <th>...</th>\n",
              "      <td>...</td>\n",
              "      <td>...</td>\n",
              "      <td>...</td>\n",
              "      <td>...</td>\n",
              "      <td>...</td>\n",
              "      <td>...</td>\n",
              "      <td>...</td>\n",
              "    </tr>\n",
              "    <tr>\n",
              "      <th rowspan=\"5\" valign=\"top\">199.0</th>\n",
              "      <th>245.0</th>\n",
              "      <td>63.230006</td>\n",
              "      <td>39.282986</td>\n",
              "      <td>94.445184</td>\n",
              "      <td>-1.743360e+07</td>\n",
              "      <td>-1.743340e+07</td>\n",
              "      <td>-5.932022e+05</td>\n",
              "      <td>-1.684019e+07</td>\n",
              "    </tr>\n",
              "    <tr>\n",
              "      <th>246.0</th>\n",
              "      <td>82.711417</td>\n",
              "      <td>82.769150</td>\n",
              "      <td>83.047722</td>\n",
              "      <td>-5.146343e+06</td>\n",
              "      <td>-5.146084e+06</td>\n",
              "      <td>-9.404837e+05</td>\n",
              "      <td>-4.205601e+06</td>\n",
              "    </tr>\n",
              "    <tr>\n",
              "      <th>247.0</th>\n",
              "      <td>63.622174</td>\n",
              "      <td>50.162690</td>\n",
              "      <td>88.740962</td>\n",
              "      <td>-2.649819e+07</td>\n",
              "      <td>-2.649798e+07</td>\n",
              "      <td>-5.962279e+05</td>\n",
              "      <td>-2.590175e+07</td>\n",
              "    </tr>\n",
              "    <tr>\n",
              "      <th>248.0</th>\n",
              "      <td>57.560713</td>\n",
              "      <td>27.622518</td>\n",
              "      <td>84.406851</td>\n",
              "      <td>2.381304e+07</td>\n",
              "      <td>2.381322e+07</td>\n",
              "      <td>-2.207245e+05</td>\n",
              "      <td>2.403394e+07</td>\n",
              "    </tr>\n",
              "    <tr>\n",
              "      <th>249.0</th>\n",
              "      <td>95.366571</td>\n",
              "      <td>62.640121</td>\n",
              "      <td>46.654335</td>\n",
              "      <td>9.330773e+07</td>\n",
              "      <td>9.330795e+07</td>\n",
              "      <td>-1.188609e+04</td>\n",
              "      <td>9.331983e+07</td>\n",
              "    </tr>\n",
              "  </tbody>\n",
              "</table>\n",
              "<p>50000 rows × 7 columns</p>\n",
              "</div>"
            ],
            "text/plain": [
              "                    x1         x2  ...         y_hat         e_hat\n",
              "rep   index                        ...                            \n",
              "0.0   0.0    48.532802  34.681108  ...  9.278052e+05  2.247138e+06\n",
              "      1.0    49.110158  69.580941  ... -3.979841e+05 -1.107871e+06\n",
              "      2.0    61.695364  97.327732  ... -1.240468e+06  3.655030e+07\n",
              "      3.0    37.097793  31.273249  ...  6.407626e+05 -4.472272e+06\n",
              "      4.0    46.018953  84.208119  ... -1.626277e+05  4.364611e+06\n",
              "...                ...        ...  ...           ...           ...\n",
              "199.0 245.0  63.230006  39.282986  ... -5.932022e+05 -1.684019e+07\n",
              "      246.0  82.711417  82.769150  ... -9.404837e+05 -4.205601e+06\n",
              "      247.0  63.622174  50.162690  ... -5.962279e+05 -2.590175e+07\n",
              "      248.0  57.560713  27.622518  ... -2.207245e+05  2.403394e+07\n",
              "      249.0  95.366571  62.640121  ... -1.188609e+04  9.331983e+07\n",
              "\n",
              "[50000 rows x 7 columns]"
            ]
          },
          "metadata": {},
          "execution_count": 22
        }
      ]
    },
    {
      "cell_type": "code",
      "metadata": {
        "colab": {
          "base_uri": "https://localhost:8080/",
          "height": 17
        },
        "id": "EqCCtonkU3C5",
        "outputId": "3fd53def-56b3-41cc-ca44-ce4c598d1cdc"
      },
      "source": [
        "table_data_new.to_csv('gendatanew_n250_x4_1000rep.csv')\n",
        "files.download('gendatanew_n250_x4_1000rep.csv')"
      ],
      "execution_count": 23,
      "outputs": [
        {
          "output_type": "display_data",
          "data": {
            "application/javascript": [
              "\n",
              "    async function download(id, filename, size) {\n",
              "      if (!google.colab.kernel.accessAllowed) {\n",
              "        return;\n",
              "      }\n",
              "      const div = document.createElement('div');\n",
              "      const label = document.createElement('label');\n",
              "      label.textContent = `Downloading \"${filename}\": `;\n",
              "      div.appendChild(label);\n",
              "      const progress = document.createElement('progress');\n",
              "      progress.max = size;\n",
              "      div.appendChild(progress);\n",
              "      document.body.appendChild(div);\n",
              "\n",
              "      const buffers = [];\n",
              "      let downloaded = 0;\n",
              "\n",
              "      const channel = await google.colab.kernel.comms.open(id);\n",
              "      // Send a message to notify the kernel that we're ready.\n",
              "      channel.send({})\n",
              "\n",
              "      for await (const message of channel.messages) {\n",
              "        // Send a message to notify the kernel that we're ready.\n",
              "        channel.send({})\n",
              "        if (message.buffers) {\n",
              "          for (const buffer of message.buffers) {\n",
              "            buffers.push(buffer);\n",
              "            downloaded += buffer.byteLength;\n",
              "            progress.value = downloaded;\n",
              "          }\n",
              "        }\n",
              "      }\n",
              "      const blob = new Blob(buffers, {type: 'application/binary'});\n",
              "      const a = document.createElement('a');\n",
              "      a.href = window.URL.createObjectURL(blob);\n",
              "      a.download = filename;\n",
              "      div.appendChild(a);\n",
              "      a.click();\n",
              "      div.remove();\n",
              "    }\n",
              "  "
            ],
            "text/plain": [
              "<IPython.core.display.Javascript object>"
            ]
          },
          "metadata": {}
        },
        {
          "output_type": "display_data",
          "data": {
            "application/javascript": [
              "download(\"download_a526a7a4-27e1-4fdf-98fe-20050887907d\", \"gendatanew_n250_x4_1000rep.csv\", 7036358)"
            ],
            "text/plain": [
              "<IPython.core.display.Javascript object>"
            ]
          },
          "metadata": {}
        }
      ]
    },
    {
      "cell_type": "code",
      "metadata": {
        "colab": {
          "base_uri": "https://localhost:8080/",
          "height": 1000
        },
        "id": "LR-s18f9XcPH",
        "outputId": "836d49ca-7a77-4aa0-d095-ca3e4a37be4d"
      },
      "source": [
        "table_data_new.plot(x ='y_hat', y='e_hat', kind = 'scatter')\n",
        "table_data_new.plot(x ='x1', y='e_hat', kind = 'scatter')\n",
        "table_data_new.plot(x ='x2', y='e_hat', kind = 'scatter')\n",
        "table_data_new.plot(x ='x3', y='e_hat', kind = 'scatter')"
      ],
      "execution_count": 24,
      "outputs": [
        {
          "output_type": "execute_result",
          "data": {
            "text/plain": [
              "<matplotlib.axes._subplots.AxesSubplot at 0x7f89c318f590>"
            ]
          },
          "metadata": {},
          "execution_count": 24
        },
        {
          "output_type": "display_data",
          "data": {
            "image/png": "[encoded data removed]",
            "text/plain": [
              "<Figure size 432x288 with 1 Axes>"
            ]
          },
          "metadata": {
            "needs_background": "light"
          }
        },
        {
          "output_type": "display_data",
          "data": {
            "image/png": "[encoded data removed]",
            "text/plain": [
              "<Figure size 432x288 with 1 Axes>"
            ]
          },
          "metadata": {
            "needs_background": "light"
          }
        },
        {
          "output_type": "display_data",
          "data": {
            "image/png": "[encoded data removed]",
            "text/plain": [
              "<Figure size 432x288 with 1 Axes>"
            ]
          },
          "metadata": {
            "needs_background": "light"
          }
        },
        {
          "output_type": "display_data",
          "data": {
            "image/png": "[encoded data removed]",
            "text/plain": [
              "<Figure size 432x288 with 1 Axes>"
            ]
          },
          "metadata": {
            "needs_background": "light"
          }
        }
      ]
    }
  ]
}